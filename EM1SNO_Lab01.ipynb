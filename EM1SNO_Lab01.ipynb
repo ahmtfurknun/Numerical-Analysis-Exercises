{
 "cells": [
  {
   "cell_type": "markdown",
   "id": "294ae0da",
   "metadata": {},
   "source": [
    "# Ahmet Furkan Ün\n",
    "# EM1SNO"
   ]
  },
  {
   "cell_type": "markdown",
   "id": "15ecca66",
   "metadata": {},
   "source": [
    "## Exercise 1"
   ]
  },
  {
   "cell_type": "code",
   "execution_count": 159,
   "id": "3901b36f",
   "metadata": {},
   "outputs": [],
   "source": [
    "import math\n",
    "\n",
    "def newtons_method(f, df, x0, precision):\n",
    "    xk = x0\n",
    "    iterations = 0\n",
    "    while abs(f(xk)) > precision:\n",
    "        if df(xk) != 0:\n",
    "            xk = xk - f(xk) / df(xk)\n",
    "            iterations += 1\n",
    "        else:\n",
    "            print(f\"Iteration {iterations}. Derivative is 0. No solution!\")\n",
    "            break\n",
    "    return xk, iterations\n",
    "\n",
    "def secant_method(f, x0, x1, precision):\n",
    "    xk_1 = x0\n",
    "    xk = x1\n",
    "    iterations = 0\n",
    "    while abs(f(xk)) > precision:\n",
    "        prev_xk = xk\n",
    "        xk = xk - f(xk) * (xk - xk_1) / (f(xk) - f(xk_1))\n",
    "        xk_1 = prev_xk\n",
    "        iterations += 1\n",
    "    return xk, iterations\n",
    "\n",
    "def bisection_method(f, a, b, precision):\n",
    "    iterations = 0\n",
    "    c = (a + b) / 2\n",
    "    \n",
    "    if f(a) * f(b) > 0:\n",
    "        print(\"The function has no root in the given interval. Make sure f(a) * f(b) < 0\")\n",
    "        \n",
    "    elif f(a) * f(b) < 0:\n",
    "        c = (a + b) / 2\n",
    "        while abs(f(c)) > precision:\n",
    "            if f(c) == 0:\n",
    "                return c, iterations\n",
    "            elif f(c) * f(b) > 0:\n",
    "                b = c\n",
    "            elif f(c) * f(b) < 0:\n",
    "                a = c\n",
    "\n",
    "            c = (a + b) / 2\n",
    "            iterations += 1\n",
    "    else:\n",
    "        if f(a) == 0:\n",
    "            return a, iterations\n",
    "        else:\n",
    "            return b, iterations\n",
    "    return c, iterations"
   ]
  },
  {
   "cell_type": "markdown",
   "id": "44df48aa",
   "metadata": {},
   "source": [
    "## Exercise 2 "
   ]
  },
  {
   "cell_type": "markdown",
   "id": "ad7da982",
   "metadata": {},
   "source": [
    "### (a) \n",
    "\n",
    "\n",
    "#### Show that there is a solution in [1, 2], \n",
    "\n",
    "$$\n",
    "f(1) = 1^3 + 2 \\cdot 1^2 + 10 \\cdot 1 - 20 = -7\n",
    "$$\n",
    "$$\n",
    "f(2) = 2^3 + 2 \\cdot 2^2 + 10 \\cdot 2 - 20 = 16\n",
    "$$\n",
    "\n",
    "Since $ f(1) = -7 $ and $ f(2) = 16 $, by the **Intermediate Value Theorem**, there is at least one root in the interval $[1, 2]$ because the function changes signs.\n",
    "\n",
    "\n",
    "#### Show there is only one real solution on $ \\mathbb{R} $.\n",
    "The derivative of $ f(x) $ is:\n",
    "\n",
    "$$\n",
    "f'(x) = 3x^2 + 4x + 10\n",
    "$$\n",
    "$$\n",
    "d = b^2 - 4ac = 4^2 - 4\\cdot 3 \\cdot 10 = -104 < 0\n",
    "$$\n",
    "\n",
    "Since the discriminant of $ f'(x)$ is negative, there are no real roots for the derivative and $ f'(x) > 0 $ for all $ x \\in \\mathbb{R} $. Therefore, $ f(x) $ is a strictly increasing function on $ \\mathbb{R} $, which means there is only one real root.\n"
   ]
  },
  {
   "cell_type": "code",
   "execution_count": 2,
   "id": "83595f72",
   "metadata": {},
   "outputs": [],
   "source": [
    "def f(x):\n",
    "    return x**3 + 2*x**2 + 10*x - 20\n",
    "\n",
    "def df(x):\n",
    "    return 3*x**2 + 4*x + 10\n",
    "\n",
    "precision = 1e-4"
   ]
  },
  {
   "cell_type": "markdown",
   "id": "071de17f",
   "metadata": {},
   "source": [
    "### (b) "
   ]
  },
  {
   "cell_type": "code",
   "execution_count": 3,
   "id": "a7b80b5f",
   "metadata": {},
   "outputs": [
    {
     "name": "stdout",
     "output_type": "stream",
     "text": [
      "Newton's Method: Root = 1.3688081886175318, Iterations = 3\n"
     ]
    }
   ],
   "source": [
    "root_newton, iters_newton = newtons_method(f, df, 1, precision)\n",
    "print(f\"Newton's Method: Root = {root_newton}, Iterations = {iters_newton}\")"
   ]
  },
  {
   "cell_type": "markdown",
   "id": "4a7e94a8",
   "metadata": {},
   "source": [
    "### (c) "
   ]
  },
  {
   "cell_type": "code",
   "execution_count": 4,
   "id": "003630f4",
   "metadata": {},
   "outputs": [
    {
     "name": "stdout",
     "output_type": "stream",
     "text": [
      "Secant Method: Root = 1.3688074597219246, Iterations = 4\n"
     ]
    }
   ],
   "source": [
    "root_secant, iters_secant = secant_method(f, 1, 2, precision)\n",
    "print(f\"Secant Method: Root = {root_secant}, Iterations = {iters_secant}\")"
   ]
  },
  {
   "cell_type": "markdown",
   "id": "76c451a2",
   "metadata": {},
   "source": [
    "### (d) "
   ]
  },
  {
   "cell_type": "code",
   "execution_count": 160,
   "id": "33e8dc5f",
   "metadata": {},
   "outputs": [
    {
     "name": "stdout",
     "output_type": "stream",
     "text": [
      "Bisection Method: Root = 1.368804931640625, Iterations = 14\n"
     ]
    }
   ],
   "source": [
    "root_bisection, iters_bisection = bisection_method(f, 1, 2, precision)\n",
    "print(f\"Bisection Method: Root = {root_bisection}, Iterations = {iters_bisection}\")"
   ]
  },
  {
   "cell_type": "markdown",
   "id": "ad48eca1",
   "metadata": {},
   "source": [
    "## Exercise 3"
   ]
  },
  {
   "cell_type": "code",
   "execution_count": 35,
   "id": "8226b83d",
   "metadata": {},
   "outputs": [],
   "source": [
    "def f_tanh(x):\n",
    "    return math.tanh(x)\n",
    "\n",
    "def df_tanh(x):\n",
    "    return 1 - f_tanh(x)**2  # First derivative\n",
    "\n",
    "def d2f_tanh(x):\n",
    "    return -2 * f_tanh(x) * (1 - f_tanh(x)**2)   # Second derivative\n",
    "\n",
    "def d3f_tanh(x):\n",
    "    return 2 * (1 - f_tanh(x)**2) * (3 * f_tanh(x)**2 - 1)   # Third derivative"
   ]
  },
  {
   "cell_type": "markdown",
   "id": "41a4d8ce",
   "metadata": {},
   "source": [
    "### Newton's Method\n",
    "Newton’s method works by iteratively improving an estimate $ x_k $ using the formula:\n",
    "$$\n",
    "x_{k+1} = x_k - \\frac{f(x_k)}{f'(x_k)}\n",
    "$$\n",
    "However, the equation $ f(x) = \\tanh(x) = 0 $ presents challenges because $ \\tanh(x) $ is nearly flat at large negative and oistive values, causing its derivative $ f'(x) $ to approach zero. This can lead to division by zero or cause very small updates, slowing convergence. Hence, an adaptive approach is needed to handle cases where the derivative is too small or when we encounter flat regions.\n",
    "\n",
    "In the updated algorithm, when the derivative is large enough, we use standard Newton’s method. If $ f'(x_k) $ is close to zero, we switch to alternative approaches using higher-order derivatives (2nd and 3rd), namely Method II in paper called \"A Method to Avoid the Division-by-Zero, Near-Zero, Divergence, and Oscillation in Newton’s Method\". This avoids division by zero or slow convergence. If the second derivative $ f''(x) $ is small and the third derivative is non-zero, we apply a correction based on the cube root to escape slow convergence or oscillations. If all else fails, we introduce a small $ \\epsilon $ to the denominator to avoid division by zero, ensuring the method progresses.\n",
    "\n",
    "https://www.researchgate.net/publication/358857049_A_Method_to_Avoid_the_Division-by-Zero_or_Near-Zero_in_Newton-Raphson_Method"
   ]
  },
  {
   "cell_type": "code",
   "execution_count": 138,
   "id": "b508be00",
   "metadata": {},
   "outputs": [
    {
     "name": "stdout",
     "output_type": "stream",
     "text": [
      "Newton's Method: Root = 4.620871738934829e-06, Iterations = 6\n"
     ]
    }
   ],
   "source": [
    "def updated_newtons_method(f, df, d2f, d3f, x0, precision, epsilon=0.05, max_iter=1000):\n",
    "    xk = x0\n",
    "    iterations = 0\n",
    "\n",
    "    while abs(f(xk)) > precision and iterations < max_iter:\n",
    "        if abs(df(xk)) > epsilon:\n",
    "            # Perform Newton's method when derivative is sufficiently large\n",
    "            xk = xk - f(xk) / df(xk)\n",
    "        elif abs(d2f(xk)) > 1e-10:\n",
    "            x1 = xk + 2*df(xk)/d2f(xk)\n",
    "            if abs(d3f(x1)) > 1e-10:\n",
    "                temp = 6*f(x1)/d3f(x1)\n",
    "                real_cube_root = temp ** (1/3) if temp >= 0 else -(-temp) ** (1/3)\n",
    "                xk = x1 - real_cube_root\n",
    "            elif abs(d2f(x1)) > 1e-10:\n",
    "                xk = x1 - math.sqrt(-2*f(x1)/d2f(x1))\n",
    "        else:\n",
    "            xk = xk - f(xk) / (df(xk)+epsilon) # if nothing works, add small amount to denominator to get rid of divison by near zero\n",
    "            \n",
    "        iterations += 1\n",
    " \n",
    "    if abs(f(xk)) <= precision:\n",
    "        return xk, iterations\n",
    "    else:\n",
    "        print(\"Maximum iterations reached without convergence.\")\n",
    "        return None, iterations\n",
    "\n",
    "root_newton, iters_newton = updated_newtons_method(f_tanh, df_tanh,d2f_tanh, d3f_tanh, -5, precision)\n",
    "print(f\"Newton's Method: Root = {root_newton}, Iterations = {iters_newton}\")"
   ]
  },
  {
   "cell_type": "markdown",
   "id": "f57f77bb",
   "metadata": {},
   "source": [
    "### Secant Method\n",
    "Secant Method also have similar problem with Newton's Method since $\\tanh(x) $ is nearly flat at large negative and poistive values, causing its the denominator $ f(x_k) − f(x_{k−1}) $ to approach zero.\n",
    "Using just two points is not sufficient in this case. Instead of using two points to approximate the derivative, we use three points to create a quadratic function that better approximates the behavior of $ f(x) $. This method is known as Inverse Quadratic Interpolation. Using three points allows us to approximate the root more effectively in some cases, improving convergence speed compared to the standard secant method."
   ]
  },
  {
   "cell_type": "code",
   "execution_count": 191,
   "id": "2d6b09e8",
   "metadata": {},
   "outputs": [
    {
     "name": "stdout",
     "output_type": "stream",
     "text": [
      "Secant Method: Root = -2.439744057834881e-06, Iterations = 5\n"
     ]
    }
   ],
   "source": [
    "def updated_secant_method(f, x0, x1, precision, max_iter=1000):\n",
    "    #Instead of using 2 points to interpolate, we can use 3 points. This method is called Inverse Quadratic Interpolation\n",
    "    x2 = x1 + (x1-x0) # This method needs 3 points. 3rd point is choosen such that 3 points have same distance\n",
    "    iterations = 0\n",
    "    while iterations < max_iter:\n",
    "        if abs(f(x0)) < precision:\n",
    "            return x0, iterations\n",
    "        if abs(f(x1)) < precision:\n",
    "            return x1, iterations\n",
    "        if abs(f(x2)) < precision:\n",
    "            return x2, iterations\n",
    "        \n",
    "        denominator = (f(x0) * (1 / (x1 - x2)) + \n",
    "                       f(x1) * (1 / (x2 - x0)) + \n",
    "                       f(x2) * (1 / (x0 - x1)))\n",
    "        \n",
    "        # Avoid division by zero\n",
    "        if abs(denominator) < 1e-10:\n",
    "            print(\"Denominator too small, exiting.\")\n",
    "            break\n",
    "        \n",
    "        x3 = (f(x0) * (x1 - x2) + \n",
    "              f(x1) * (x2 - x0) + \n",
    "              f(x2) * (x0 - x1)) / denominator\n",
    "\n",
    "        # Update points for next iteration\n",
    "        x0, x1, x2 = x1, x2, x3\n",
    "        iterations += 1\n",
    "    return x2, iterations\n",
    "    \n",
    "\n",
    "\n",
    "\n",
    "root_secant, iters_secant = updated_secant_method(f_tanh, -5, -4, precision)\n",
    "print(f\"Secant Method: Root = {root_secant}, Iterations = {iters_secant}\")\n"
   ]
  },
  {
   "cell_type": "markdown",
   "id": "b33fe424",
   "metadata": {},
   "source": [
    "### Bisection Method\n",
    "The bisection method requires that the function has opposite signs at the endpoints $ a $ and $ b $ (i.e., $ f(a) \\cdot f(b) < 0 $), which guarantees that a root exists within the interval. In our case both endpoints are positive ($ f(5) > 0$ and $ f(10) > 0$). In the updated algorithm, before starting the root-finding process, we check whether the interval $[a, b]$ contains a root by verifying that $ f(a) \\cdot f(b) < 0 $. If it doesn’t (i.e., both values have the same sign), we extend the interval outward by adjusting $ a $ and $ b $ symmetrically. The step size starts small and doubles with each iteration, allowing us to explore a wider range if needed. Once we confirm that the interval contains a root, we start the bisection process"
   ]
  },
  {
   "cell_type": "code",
   "execution_count": 158,
   "id": "77535812",
   "metadata": {},
   "outputs": [
    {
     "name": "stdout",
     "output_type": "stream",
     "text": [
      "Your interval do not contain the root. Updating the interval...\n",
      "Updated interval: [-2.5, 17.5]\n",
      "Bisection Method: Root = 7.5, Iterations = 0\n"
     ]
    }
   ],
   "source": [
    "def updated_bisection_method(f, a, b, precision, step_size=0.5, max_update=100):\n",
    "    iterations = 0\n",
    "    update_count = 0\n",
    "    c = (a + b) / 2\n",
    "    \n",
    "    if f(a) * f(b) > 0:\n",
    "        print(\"Your interval do not contain the root. Updating the interval...\")\n",
    "        while f(a) * f(b) > 0 and update_count < max_update:\n",
    "            a -= step_size\n",
    "            b += step_size\n",
    "            step_size *= 2\n",
    "            update_count += 1\n",
    "            \n",
    "        if f(a) * f(b) > 0:\n",
    "            print(\"The function has no root near the provided interval. To search wider, increase 'max_update' or check your interval\")\n",
    "            \n",
    "        elif f(a) * f(b) < 0:\n",
    "            print(f\"Updated interval: [{a}, {b}]\")   \n",
    "        \n",
    "    elif f(a) * f(b) < 0:\n",
    "        c = (a + b) / 2\n",
    "        while abs(f(c)) > precision:\n",
    "            if f(c) == 0:\n",
    "                return c, iterations\n",
    "            elif f(c) * f(b) > 0:\n",
    "                b = c\n",
    "            elif f(c) * f(b) < 0:\n",
    "                a = c\n",
    "\n",
    "            c = (a + b) / 2\n",
    "            iterations += 1\n",
    "    else:\n",
    "        if f(a) == 0:\n",
    "            return a, iterations\n",
    "        else:\n",
    "            return b, iterations\n",
    "    return c, iterations\n",
    "\n",
    "root_bisection_tanh, iters_bisection_tanh = updated_bisection_method(f_tanh, 5, 10, precision)\n",
    "print(f\"Bisection Method: Root = {root_bisection_tanh}, Iterations = {iters_bisection_tanh}\")\n"
   ]
  },
  {
   "cell_type": "markdown",
   "id": "016dfb47",
   "metadata": {},
   "source": [
    "## Exercise 4"
   ]
  },
  {
   "cell_type": "markdown",
   "id": "404a1a8d",
   "metadata": {},
   "source": [
    "$$\n",
    "g(x) = \\frac{20}{x^2 + 2x + 10}\n",
    "$$\n",
    "\n",
    "To apply the Contraction Mapping Theorem, we need to show that:\n",
    "\n",
    "1. **$ g(x) $ maps the interval $[1, 2]$ into itself.**\n",
    "   \n",
    "\n",
    "2. **$ g(x) $ is a contraction on $[1, 2]$.**\n",
    "\n",
    "\n",
    "### 1. Checking if $ g(x) $ maps the interval $ [1, 2] $ into itself\n",
    "We need to confirm that for all $ x \\in [1, 2] $, $ 1 \\leq g(x) \\leq 2 $. \n",
    "As g is a continuous function and [1, 2] is a bounded and closed interval, g has a minimum or maximum values which either occur at endpoints or where $g'(x) = 0$\n",
    "\n",
    "We have:\n",
    "$$\n",
    "g(x) = \\frac{20}{x^2 + 2x + 10}\n",
    "$$\n",
    "Using the quotient rule:\n",
    "$$\n",
    "g'(x) = -\\frac{20 \\cdot (2x + 2)}{(x^2 + 2x + 10)^2}\n",
    "$$\n",
    "Simplifying:\n",
    "$$\n",
    "g'(x) = -\\frac{40(x + 1)}{(x^2 + 2x + 10)^2}\n",
    "$$\n",
    "\n",
    "which is defined for all  $ x \\in [1, 2] $ and there is no $ x \\in [1, 2] $ such that $g'(x) =0$. Therefore minimum and maximum values are endpoints of the interval.\n",
    "\n",
    "$$\n",
    "g(1) = \\frac{20}{1^2 + 2(1) + 10} = \\frac{20}{13} \\approx 1.538\n",
    "$$\n",
    "$$\n",
    "g(2) = \\frac{20}{2^2 + 2(2) + 10} = \\frac{20}{18} \\approx 1.111\n",
    "$$\n",
    "\n",
    "Thus, for all $ x \\in [1, 2] $, the value of $ g(x) $ stays between $ g(1) \\approx 1.538 $ and $ g(2) \\approx 1.111 $. This confirms that $ g(x) \\in [1, 2] $ for all $ x \\in [1, 2] $, and thus $ g(x) $ maps the interval $ [1, 2] $ into itself.\n",
    "\n",
    "### 2. Checking if $ g(x) $ is a contraction on the interval $ [1, 2] \n",
    "\n",
    "We need to show that $ g(x) $ is a contraction, meaning that there exists a constant $ L \\in [0, 1) $ such that:\n",
    "\n",
    "$$\n",
    "|g(x_1) - g(x_2)| \\leq L |x_1 - x_2| \\quad \\text{for all} \\ x_1, x_2 \\in [1, 2]\n",
    "$$\n",
    "\n",
    "To verify this, we compute the derivative $ g'(x) $ and show that $ |g'(x)| \\leq L $ for some $ L < 1 $ on $ [1, 2] $.\n",
    "\n",
    "As previously calculated:\n",
    "$$\n",
    "g'(x) = -\\frac{40(x + 1)}{(x^2 + 2x + 10)^2}\n",
    "$$\n",
    "\n",
    "Now, we need to check the absolute value of $ g'(x) $ in the interval $ [1, 2] $.\n",
    "\n",
    "#### Evaluating $ |g'(x)| $ in $ [1, 2] $\n",
    "\n",
    "We know that:\n",
    "$ 1 \\leq x \\leq 2$\n",
    "\n",
    "Therefore:\n",
    "\n",
    "$ 80 \\leq 40(x + 1) \\leq 120$\n",
    "\n",
    "And\n",
    "\n",
    "$ 169 \\leq (x^2 + 2x + 10)^2 \\leq 324$\n",
    "\n",
    "\n",
    "\n",
    "Therefore $ |g'(x)| < 1 $ for all $ x \\in [1, 2] $ and $ g(x) $ is a contraction.\n",
    "\n",
    "\n",
    "\n",
    "Since $ g(x) $ is a contraction and maps the interval $ [1, 2] $ into itself, the Contraction Mapping Theorem guarantees that the simple iteration:\n",
    "\n",
    "$$\n",
    "x_{k+1} = g(x_k)\n",
    "$$\n",
    "\n",
    "will converge to a unique fixed point $ \\xi \\in [1, 2] $, which is the solution to $ f(x) = 0 $.\n"
   ]
  },
  {
   "cell_type": "code",
   "execution_count": 33,
   "id": "4618d5a3",
   "metadata": {},
   "outputs": [
    {
     "name": "stdout",
     "output_type": "stream",
     "text": [
      "Precision: 1e-2   Root: 1.37                # of Iterations: 4     Theoretical Criterion: 5   \n",
      "Precision: 1e-4   Root: 1.3688              # of Iterations: 10    Theoretical Criterion: 11  \n",
      "Precision: 1e-6   Root: 1.368807            # of Iterations: 15    Theoretical Criterion: 18  \n",
      "Precision: 1e-8   Root: 1.3688081           # of Iterations: 21    Theoretical Criterion: 24  \n",
      "Precision: 1e-10  Root: 1.3688081078        # of Iterations: 27    Theoretical Criterion: 30  \n",
      "Precision: 1e-12  Root: 1.368808107822      # of Iterations: 32    Theoretical Criterion: 36  \n",
      "Precision: 1e-14  Root: 1.36880810782138    # of Iterations: 38    Theoretical Criterion: 42  \n",
      "Precision: 1e-16  Root: 1.3688081078213725  # of Iterations: 43    Theoretical Criterion: 48  \n"
     ]
    }
   ],
   "source": [
    "def g(x):\n",
    "    return 20 / (x**2 + 2*x + 10)\n",
    "\n",
    "def simple_iteration(g, x0, precision):\n",
    "    xk = x0\n",
    "    iterations = 0\n",
    "    while abs(g(xk) - xk) > precision:\n",
    "        xk = g(xk)\n",
    "        iterations += 1\n",
    "    return xk, iterations\n",
    "\n",
    "x0 = 1.5\n",
    "x1 = g(x0)\n",
    "L = 80/169\n",
    "for dec in range(2, 17, 2):\n",
    "    precision = 10**(-dec)\n",
    "    eps, iteration = simple_iteration(g, x0, precision)\n",
    "    i_theoretical = math.floor((math.log(abs(x0-x1)) - math.log(precision*(1-L)))/(math.log(1/L))) + 1\n",
    "    print(f\"Precision: 1e-{dec:<2}  Root: {round(eps, dec):<18}  # of Iterations: {iteration:<4}  Theoretical Criterion: {i_theoretical:<4}\")"
   ]
  },
  {
   "cell_type": "markdown",
   "id": "afab6603",
   "metadata": {},
   "source": [
    "The theoretical criterion consistently predicts a slightly larger number of iterations compared to the actual number of iterations performed by my implementation. This shows that the theoretical criterion is indeed pessimistic, though not excessively so."
   ]
  }
 ],
 "metadata": {
  "kernelspec": {
   "display_name": "Python 3 (ipykernel)",
   "language": "python",
   "name": "python3"
  },
  "language_info": {
   "codemirror_mode": {
    "name": "ipython",
    "version": 3
   },
   "file_extension": ".py",
   "mimetype": "text/x-python",
   "name": "python",
   "nbconvert_exporter": "python",
   "pygments_lexer": "ipython3",
   "version": "3.9.13"
  }
 },
 "nbformat": 4,
 "nbformat_minor": 5
}
