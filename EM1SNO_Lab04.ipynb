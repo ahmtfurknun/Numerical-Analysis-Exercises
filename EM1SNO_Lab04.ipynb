{
 "cells": [
  {
   "cell_type": "markdown",
   "id": "4e1ca6b9",
   "metadata": {},
   "source": [
    "# Ahmet Furkan Ün\n",
    "# EM1SNO"
   ]
  },
  {
   "cell_type": "markdown",
   "id": "f1245b83",
   "metadata": {},
   "source": [
    "## Exercise 1a"
   ]
  },
  {
   "cell_type": "code",
   "execution_count": 23,
   "id": "0138d072-4f75-49d9-b463-bf35de4ac251",
   "metadata": {},
   "outputs": [
    {
     "name": "stdout",
     "output_type": "stream",
     "text": [
      "Computed Eigenvalues:\n",
      "[  9.80270039  38.41664505  83.52370239 141.46956685 207.55980914\n",
      " 276.44019086 342.53043315 400.47629761 445.58335495 474.19729961]\n",
      "\n",
      "Exact Eigenvalues:\n",
      "[  9.80270039  38.41664505  83.52370239 141.46956685 207.55980914\n",
      " 276.44019086 342.53043315 400.47629761 445.58335495 474.19729961]\n",
      "\n",
      "Computed and True Eigenvalues are same\n"
     ]
    }
   ],
   "source": [
    "import numpy as np\n",
    "\n",
    "def qr_algorithm(A, max_iters=1000, tol=1e-10):\n",
    "    n = A.shape[0]\n",
    "    A_k = A.copy()\n",
    "    for _ in range(max_iters):\n",
    "        Q, R = np.linalg.qr(A_k)\n",
    "        A_k = R @ Q\n",
    "        off_diag_norm = np.sqrt(np.sum(np.tril(A_k, -1)**2))\n",
    "        if off_diag_norm < tol:\n",
    "            break\n",
    "    return np.diag(A_k)\n",
    "\n",
    "n = 10\n",
    "A = (n + 1)**2 * (2 * np.eye(n) - np.eye(n, k=1) - np.eye(n, k=-1))\n",
    "\n",
    "computed_eigenvalues = qr_algorithm(A)\n",
    "computed_eigenvalues = np.array(sorted(computed_eigenvalues))\n",
    "\n",
    "k = np.arange(1, n + 1)\n",
    "exact_eigenvalues = 4 * (n + 1)**2 * np.sin(k * np.pi / (2 * (n + 1)))**2\n",
    "\n",
    "print(\"Computed Eigenvalues:\")\n",
    "print(computed_eigenvalues)\n",
    "print(\"\\nExact Eigenvalues:\")\n",
    "print(exact_eigenvalues)\n",
    "\n",
    "if (np.round(computed_eigenvalues, 5) == np.round(exact_eigenvalues, 5)).all():\n",
    "    print(\"\\nComputed and True Eigenvalues are same\")\n"
   ]
  },
  {
   "cell_type": "markdown",
   "id": "5591e9bf",
   "metadata": {},
   "source": [
    "## Exercise 1b"
   ]
  },
  {
   "cell_type": "code",
   "execution_count": 27,
   "id": "a2e3973a-60a0-4d9e-ba65-95ae0fb00951",
   "metadata": {},
   "outputs": [
    {
     "name": "stdout",
     "output_type": "stream",
     "text": [
      "Computed Smallest Eigenvector:\n",
      "[0.12013117 0.23053002 0.3222527  0.38786839 0.42206128 0.42206128\n",
      " 0.38786839 0.3222527  0.23053002 0.12013117]\n",
      "\n",
      "Exact Smallest Eigenvector:\n",
      "[0.12013117 0.23053002 0.3222527  0.38786839 0.42206128 0.42206128\n",
      " 0.38786839 0.3222527  0.23053002 0.12013117]\n",
      "\n",
      "Computed and True Eigenvectors are same\n"
     ]
    }
   ],
   "source": [
    "def inverse_iteration(A, mu, tol=1e-10, max_iters=1000):\n",
    "    n = A.shape[0]\n",
    "    I = np.eye(n)\n",
    "    v = np.random.rand(n)  \n",
    "    v /= np.linalg.norm(v)  \n",
    "    \n",
    "    for _ in range(max_iters):\n",
    "        # Solve (A - mu * I)v = w\n",
    "        try:\n",
    "            w = np.linalg.solve(A - mu * I, v)\n",
    "        except np.linalg.LinAlgError:\n",
    "            break  # Stop if the matrix is singular or nearly singular\n",
    "        \n",
    "        v_next = w / np.linalg.norm(w)\n",
    "        \n",
    "        if np.linalg.norm(v_next - v) < tol:\n",
    "            break\n",
    "        \n",
    "        v = v_next\n",
    "    \n",
    "    return v\n",
    "\n",
    "mu_approx = computed_eigenvalues[0] \n",
    "\n",
    "smallest_eigenvector = inverse_iteration(A, mu_approx)\n",
    "\n",
    "exact_eigenvector = np.sin(np.pi * np.arange(1, n + 1) / (n + 1))\n",
    "exact_eigenvector /= np.linalg.norm(exact_eigenvector)\n",
    "\n",
    "print(\"Computed Smallest Eigenvector:\")\n",
    "print(smallest_eigenvector)\n",
    "print(\"\\nExact Smallest Eigenvector:\")\n",
    "print(exact_eigenvector)\n",
    "\n",
    "if (np.round(smallest_eigenvector, 5) == np.round(exact_eigenvector, 5)).all():\n",
    "    print(\"\\nComputed and True Eigenvectors are same\")\n"
   ]
  }
 ],
 "metadata": {
  "kernelspec": {
   "display_name": "Python 3 (ipykernel)",
   "language": "python",
   "name": "python3"
  },
  "language_info": {
   "codemirror_mode": {
    "name": "ipython",
    "version": 3
   },
   "file_extension": ".py",
   "mimetype": "text/x-python",
   "name": "python",
   "nbconvert_exporter": "python",
   "pygments_lexer": "ipython3",
   "version": "3.12.7"
  }
 },
 "nbformat": 4,
 "nbformat_minor": 5
}
